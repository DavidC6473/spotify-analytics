{
 "cells": [
  {
   "cell_type": "code",
   "execution_count": 1,
   "id": "8f4edf7c",
   "metadata": {},
   "outputs": [],
   "source": [
    "# setup\n",
    "import os, pandas as pd \n",
    "import matplotlib.pyplot as plt\n",
    "from sqlalchemy import create_engine, text\n",
    "from dotenv import load_dotenv\n",
    "\n",
    "plt.rcParams[\"figure.dpi\"] = 140\n",
    "plt.rcParams[\"axes.grid\"] = True\n",
    "\n",
    "load_dotenv()\n",
    "engine = create_engine(os.getenv(\"DATABASE_URL\"))\n",
    "\n",
    "def q(sql, params=None):\n",
    "    with engine.begin() as con:\n",
    "        return pd.read_sql(text(sql), con, params or {})"
   ]
  }
 ],
 "metadata": {
  "kernelspec": {
   "display_name": ".venv",
   "language": "python",
   "name": "python3"
  },
  "language_info": {
   "codemirror_mode": {
    "name": "ipython",
    "version": 3
   },
   "file_extension": ".py",
   "mimetype": "text/x-python",
   "name": "python",
   "nbconvert_exporter": "python",
   "pygments_lexer": "ipython3",
   "version": "3.12.10"
  }
 },
 "nbformat": 4,
 "nbformat_minor": 5
}
